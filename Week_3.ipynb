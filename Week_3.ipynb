{
  "nbformat": 4,
  "nbformat_minor": 0,
  "metadata": {
    "colab": {
      "provenance": [],
      "authorship_tag": "ABX9TyPm5fEAukOXWNf+9eRsmd8h",
      "include_colab_link": true
    },
    "kernelspec": {
      "name": "python3",
      "display_name": "Python 3"
    },
    "language_info": {
      "name": "python"
    }
  },
  "cells": [
    {
      "cell_type": "markdown",
      "metadata": {
        "id": "view-in-github",
        "colab_type": "text"
      },
      "source": [
        "<a href=\"https://colab.research.google.com/github/opeyemi-1212/Power-Learn-projects/blob/main/Week_3.ipynb\" target=\"_parent\"><img src=\"https://colab.research.google.com/assets/colab-badge.svg\" alt=\"Open In Colab\"/></a>"
      ]
    },
    {
      "cell_type": "code",
      "source": [
        "def calculate_discount(price, discount_percent):\n",
        "  if discount_percent >= 20:\n",
        "    return price - (price * discount_percent / 100)\n",
        "  else:\n",
        "    return price"
      ],
      "metadata": {
        "id": "_752xwgdDSH5"
      },
      "execution_count": 7,
      "outputs": []
    },
    {
      "cell_type": "code",
      "metadata": {
        "colab": {
          "base_uri": "https://localhost:8080/"
        },
        "id": "95fdd859",
        "outputId": "da09416a-5e05-45d7-e272-d7a2e380e0a6"
      },
      "source": [
        "price = int(input(\"Enter a number for price: \"))\n",
        "discount_percent = int(input(\"Enter a number for discount percentage: \"))\n",
        "\n",
        "if discount_percent >= 20:\n",
        "  print(discount_percent, \"This is the discount\")\n",
        "else:\n",
        "  print(price, \"no discount applied\")"
      ],
      "execution_count": 12,
      "outputs": [
        {
          "output_type": "stream",
          "name": "stdout",
          "text": [
            "Enter a number for price: 22\n",
            "Enter a number for discount percentage: 30\n",
            "30 This is the discount\n"
          ]
        }
      ]
    }
  ]
}