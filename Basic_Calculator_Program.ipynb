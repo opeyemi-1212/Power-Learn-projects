{
  "nbformat": 4,
  "nbformat_minor": 0,
  "metadata": {
    "colab": {
      "provenance": [],
      "authorship_tag": "ABX9TyNmKBOhcYSH2DAAtk1aawzj",
      "include_colab_link": true
    },
    "kernelspec": {
      "name": "python3",
      "display_name": "Python 3"
    },
    "language_info": {
      "name": "python"
    }
  },
  "cells": [
    {
      "cell_type": "markdown",
      "metadata": {
        "id": "view-in-github",
        "colab_type": "text"
      },
      "source": [
        "<a href=\"https://colab.research.google.com/github/opeyemi-1212/Power-Learn-projects/blob/main/Basic_Calculator_Program.ipynb\" target=\"_parent\"><img src=\"https://colab.research.google.com/assets/colab-badge.svg\" alt=\"Open In Colab\"/></a>"
      ]
    },
    {
      "cell_type": "code",
      "source": [
        "--Basic Calculator Program--\n",
        "number1 = int(input(\"input a number \"))\n",
        "number2 = int(input(\"input a second number \"))\n",
        "arithmetic_operator = input(\"add an arithmetic operator (+, -, *, /)\")\n",
        "\n",
        "if arithmetic_operator == '+':\n",
        "    answer = number1 + number2\n",
        "elif arithmetic_operator == '-':\n",
        "    answer = number1 - number2\n",
        "elif arithmetic_operator== '*':\n",
        "    answer = number1 * number2\n",
        "elif arithmetic_operatior == '/':\n",
        "    answer = number1 / number2\n",
        "else:\n",
        "    answer = \"Invalid operator\"\n",
        "\n",
        "print(answer)"
      ],
      "metadata": {
        "colab": {
          "base_uri": "https://localhost:8080/"
        },
        "id": "Za3IYFAae7yB",
        "outputId": "fb7186fe-6c6e-4bc6-f4a0-c0cef7f1f81f"
      },
      "execution_count": 6,
      "outputs": [
        {
          "output_type": "stream",
          "name": "stdout",
          "text": [
            "input a number 5\n",
            "input a second number 3\n",
            "add an arithmetic operator (+, -, *, /)*\n",
            "15\n"
          ]
        }
      ]
    }
  ]
}