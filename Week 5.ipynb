{
  "nbformat": 4,
  "nbformat_minor": 0,
  "metadata": {
    "colab": {
      "provenance": [],
      "authorship_tag": "ABX9TyOh/5fRK3fg550BXtDKgHkg",
      "include_colab_link": true
    },
    "kernelspec": {
      "name": "python3",
      "display_name": "Python 3"
    },
    "language_info": {
      "name": "python"
    }
  },
  "cells": [
    {
      "cell_type": "markdown",
      "metadata": {
        "id": "view-in-github",
        "colab_type": "text"
      },
      "source": [
        "<a href=\"https://colab.research.google.com/github/opeyemi-1212/Power-Learn-projects/blob/main/Week%205.ipynb\" target=\"_parent\"><img src=\"https://colab.research.google.com/assets/colab-badge.svg\" alt=\"Open In Colab\"/></a>"
      ]
    },
    {
      "cell_type": "markdown",
      "source": [
        "Activity 1"
      ],
      "metadata": {
        "id": "EHbPXFyh--ZG"
      }
    },
    {
      "cell_type": "code",
      "execution_count": 18,
      "metadata": {
        "id": "YlZaxRb-sVC8"
      },
      "outputs": [],
      "source": [
        "# Defining class Myperson.\n",
        "class Myperson:\n",
        "  hair=\"black\" # Attributes\n",
        "  eyes=\"brown\"\n",
        "  height= \"tall\"\n",
        "  skin=\"brown\"\n",
        "  def movement(self):  # Method to display person details\n",
        "    print (\"The person is walking\")"
      ]
    },
    {
      "cell_type": "code",
      "source": [
        "Daniel=Myperson() # Creating instance/object Daniel\n",
        "Daniel.eyes # Call the eye attribute\n",
        "print (Daniel.eyes) # Access the eye attribute\n",
        "Daniel.movement() # Call the walk method\n",
        "\n"
      ],
      "metadata": {
        "colab": {
          "base_uri": "https://localhost:8080/"
        },
        "id": "FMB8l7cnu9vM",
        "outputId": "dd8c30c0-34cc-4243-b5ca-b37d581479c8"
      },
      "execution_count": 19,
      "outputs": [
        {
          "output_type": "stream",
          "name": "stdout",
          "text": [
            "brown\n",
            "The person is walking\n"
          ]
        }
      ]
    },
    {
      "cell_type": "code",
      "source": [
        "# using constructor\n",
        "\n",
        "class Person:\n",
        "    def __init__(self, age, name):\n",
        "        self.age = age # Instance variable\n",
        "        self.name = name # Instance variable\n",
        "\n",
        "# Creating objects with unique attributes\n",
        "person1 = Person(23, \"Daniel\")\n",
        "person2 = Person(10, \"Paul\")\n",
        "\n",
        "print (person1.name)\n",
        "print (person2.name)\n",
        "print(f\"{person1.name} is {person1.age} years old.\")\n",
        "print(f\"{person2.name} is {person2.age} years old.\")"
      ],
      "metadata": {
        "colab": {
          "base_uri": "https://localhost:8080/"
        },
        "id": "SFBcPORawg1Z",
        "outputId": "586e30c9-1a3d-445a-ea5c-ebefaa566ba8"
      },
      "execution_count": 8,
      "outputs": [
        {
          "output_type": "stream",
          "name": "stdout",
          "text": [
            "Daniel\n",
            "Paul\n",
            "Daniel is 23 years old.\n",
            "Paul is 10 years old.\n"
          ]
        }
      ]
    },
    {
      "cell_type": "code",
      "source": [
        "# Inheritance\n",
        "\n",
        "class Person(Person): # Changed Myperson to Person\n",
        "   pass\n",
        "   Person.hair=\"red\"\n",
        "   print(Person.hair)\n",
        "   # The following line will cause an error because person1 and person2 are instances, not the class itself\n",
        "   # print(f\"{person1.name} is {person1.age} years old and has a {Person.hair} hair\")"
      ],
      "metadata": {
        "colab": {
          "base_uri": "https://localhost:8080/"
        },
        "id": "NxL31jc_1dgL",
        "outputId": "fdba83f9-e644-4a9f-b266-7f06d8222cb5"
      },
      "execution_count": 17,
      "outputs": [
        {
          "output_type": "stream",
          "name": "stdout",
          "text": [
            "red\n"
          ]
        }
      ]
    },
    {
      "cell_type": "code",
      "source": [
        "# Polymorphism\n",
        "class bird:\n",
        "    def movement(self):\n",
        "        return \"The bird is flying\"\n",
        "class Myperson:\n",
        "    def movement(self):\n",
        "        return \"The person is walking\"\n",
        "\n",
        "for obj in [Myperson(), bird()]:\n",
        "    obj.movement()\n",
        "    print(obj)"
      ],
      "metadata": {
        "colab": {
          "base_uri": "https://localhost:8080/"
        },
        "id": "9xy2ofzr36u2",
        "outputId": "c1be21ae-d462-4c5c-d379-751a3265bc5b"
      },
      "execution_count": 34,
      "outputs": [
        {
          "output_type": "stream",
          "name": "stdout",
          "text": [
            "<__main__.Myperson object at 0x7f015e4c9af0>\n",
            "<__main__.bird object at 0x7f013d967770>\n"
          ]
        }
      ]
    },
    {
      "cell_type": "code",
      "source": [
        "# Encapsulation\n",
        "class SecretPerson:\n",
        "    def __init__(self):\n",
        "        self.__weight=50   # Private attribute\n",
        "\n",
        "    def check_weight(self):\n",
        "        if self.__weight > 50:\n",
        "            self.__weight ='Overweight'\n",
        "            print(\"Overweight!\")\n",
        "        else:\n",
        "            print(\"Normal weight\")\n",
        "\n",
        "person1=SecretPerson()\n",
        "person1.check_weight()\n",
        "\n",
        "print(person1._SecretPerson__weight)\n",
        "person1._SecretPerson__weight=60\n",
        "person1.check_weight()"
      ],
      "metadata": {
        "colab": {
          "base_uri": "https://localhost:8080/"
        },
        "id": "penGf8lx8fYz",
        "outputId": "8a919fde-3f3c-4129-9a9f-25a894c68908"
      },
      "execution_count": 36,
      "outputs": [
        {
          "output_type": "stream",
          "name": "stdout",
          "text": [
            "Normal weight\n",
            "50\n",
            "Overweight!\n"
          ]
        }
      ]
    },
    {
      "cell_type": "markdown",
      "source": [
        "Activity 2"
      ],
      "metadata": {
        "id": "wZpqufkK-6OS"
      }
    },
    {
      "cell_type": "code",
      "source": [
        "class bird:\n",
        "    def movement(self):\n",
        "        return \"The bird is flying\"\n",
        "class dog:\n",
        "    def movement(self):\n",
        "        return \"The dog is walking\"\n",
        "class lizard:\n",
        "    def movement(self):\n",
        "        return \"The lizard is crawling\"\n",
        "class fish:\n",
        "    def movement(self):\n",
        "        return \"The fish is swimming\"\n",
        "\n",
        "for obj in [bird(), dog(), lizard (), fish ()]:\n",
        "    obj.movement()\n",
        "    print(obj)"
      ],
      "metadata": {
        "colab": {
          "base_uri": "https://localhost:8080/"
        },
        "id": "N_Gnv_CH-1nj",
        "outputId": "e8960c49-e502-4280-8808-b2d92a657cac"
      },
      "execution_count": 37,
      "outputs": [
        {
          "output_type": "stream",
          "name": "stdout",
          "text": [
            "<__main__.bird object at 0x7f013d967890>\n",
            "<__main__.dog object at 0x7f013d96ed80>\n",
            "<__main__.lizard object at 0x7f013d96f410>\n",
            "<__main__.fish object at 0x7f013d96fe60>\n"
          ]
        }
      ]
    }
  ]
}